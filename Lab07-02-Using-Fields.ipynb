{
 "cells": [
  {
   "cell_type": "markdown",
   "metadata": {
    "dotnet_interactive": {
     "language": "csharp"
    },
    "polyglot_notebook": {
     "kernelName": "csharp"
    }
   },
   "source": [
    "# การใช้งานตัวแปร Fields ในภาษา C#"
   ]
  },
  {
   "cell_type": "markdown",
   "metadata": {},
   "source": [
    "## 2. Field\n",
    "\n",
    "- เป็นตัวแปรที่ประกาศภายใน class หรือ struct\n",
    "- สามารถเข้าถึงได้จาก method ใดๆ ก็ตามที่อยู่ภายใน class หรือ struct เดียวกัน\n",
    "- มี scope ครอบคลุมทั่วทั้ง class หรือ struct\n",
    "- มักใช้เก็บข้อมูลที่เป็น property หรือ state ของ object"
   ]
  },
  {
   "cell_type": "markdown",
   "metadata": {},
   "source": [
    "### 2.1 การประกาศ field\n",
    "\n",
    "ประกาศภายใน class หรือ struct นอก method ใดๆ\n",
    "\n",
    "__รูปแบบ__\n",
    "\n",
    "[access modifier] [data type] [field name];\n",
    "\n",
    "เมื่อ\n",
    "\n",
    "[access modifier] คือกำหนดระดับการเข้าถึง field เช่น public, private, protected, internal เป็นต้น หากไม่ระบุจะเป็น private โดยปริยาย\n",
    "\n",
    "[data type]  คือชนิดข้อมูลของ field เช่น int, string, bool, DateTime หรือชนิดข้อมูลที่ผู้ใช้กำหนดเอง\n",
    "\n",
    "[field name]  คือชื่อของ field ควรตั้งชื่อให้สื่อความหมายและเป็นไปตามหลักการตั้งชื่อตัวแปร"
   ]
  },
  {
   "cell_type": "markdown",
   "metadata": {},
   "source": [
    "ตัวอย่าง"
   ]
  },
  {
   "cell_type": "code",
   "execution_count": null,
   "metadata": {},
   "outputs": [
    {
     "name": "stdout",
     "output_type": "stream",
     "text": [
      "John\n",
      "30\n"
     ]
    }
   ],
   "source": [
    "public class Person\n",
    "{\n",
    "  // fields  \n",
    "  public string FirstName;\n",
    "  public string LastName;\n",
    "  private int age; \n",
    "  protected string address;\n",
    "  // ควรเลือก access modifier ให้เหมาะสม เพื่อป้องกันการเข้าถึง field โดยไม่ได้ตั้งใจ\n",
    "  // เราสามารถกำหนดค่าเริ่มต้นให้ field ได้ เช่น private int age = 30;\n",
    "\n",
    "  // constructor\n",
    "  public Person(string firstName, string lastName, int age, string address)\n",
    "  {\n",
    "    FirstName = firstName;\n",
    "    LastName = lastName;\n",
    "    this.age = age; \n",
    "    this.address = address;\n",
    "  }\n",
    "\n",
    "  // method\n",
    "  public int GetAge() \n",
    "  {\n",
    "    return age; \n",
    "  }\n",
    "}\n",
    "\n",
    "Person person1 = new Person(\"John\", \"Doe\", 30, \"123 Main St\");\n",
    "Console.WriteLine(person1.FirstName); // output: John\n",
    "Console.WriteLine(person1.GetAge()); // output: 30"
   ]
  },
  {
   "cell_type": "markdown",
   "metadata": {},
   "source": [
    "__จากตัวอย่าง__\n",
    "\n",
    "- `FirstName` และ `LastName` เป็น public field สามารถเข้าถึงได้จากภายนอก class\n",
    "- `age` เป็น private field สามารถเข้าถึงได้เฉพาะภายใน class Person เท่านั้น\n",
    "- `address` เป็น protected field สามารถเข้าถึงได้ภายใน class Person และ class ที่สืบทอดจาก Person\n",
    "- constructor `Person` ใช้สำหรับกำหนดค่าเริ่มต้นให้กับ field\n",
    "- method `GetAge()` ใช้สำหรับอ่านค่าของ field age"
   ]
  },
  {
   "cell_type": "markdown",
   "metadata": {},
   "source": [
    "\n",
    "### 2.2 ขอบเขตของ field\n",
    "มีผลทั่วทั้ง class หรือ struct สามารถเข้าถึงได้จาก method ใดๆ ภายใน class/struct นั้น\n"
   ]
  },
  {
   "cell_type": "markdown",
   "metadata": {},
   "source": [
    "\n",
    "### 2.3 การเข้าถึง field\n",
    "- สามารถกำหนด access modifiers เช่น public, private, protected เพื่อควบคุมการเข้าถึงจากภายนอก class ได้\n",
    "- field ที่เป็น static จะถูกแชร์ร่วมกันในทุก instance ของ class"
   ]
  },
  {
   "cell_type": "markdown",
   "metadata": {},
   "source": [
    "### 2.4 ตัวอย่างการใช้ field\n",
    "ตัวอย่างต่อไปนี้ แสดงให้เห็นขอบเขตการใช้งาน field ซึ่งจะมีทั้งที่ใช้ได้และใช้ไม่ได้ "
   ]
  },
  {
   "cell_type": "markdown",
   "metadata": {},
   "source": [
    "#### 2.4.1 การใช้งาน field"
   ]
  },
  {
   "cell_type": "markdown",
   "metadata": {},
   "source": [
    "#### 2.4.1 (A)"
   ]
  },
  {
   "cell_type": "code",
   "execution_count": null,
   "metadata": {},
   "outputs": [
    {
     "name": "stdout",
     "output_type": "stream",
     "text": [
      "My name is  and I am 0 years old.\r\n"
     ]
    }
   ],
   "source": [
    "public  class Person\n",
    "{\n",
    "    public string name; // field - public สามารถเข้าถึงจากภายนอก class ได้\n",
    "    private int age;    // field - private เข้าถึงได้เฉพาะภายใน class\n",
    "    \n",
    "    public void Introduce()\n",
    "    {\n",
    "        Console.WriteLine(\"My name is \" + name + \" and I am \" + age + \" years old.\");\n",
    "    }\n",
    "}\n",
    "\n",
    "Person p = new();\n",
    "p.Introduce();"
   ]
  },
  {
   "cell_type": "markdown",
   "metadata": {},
   "source": [
    "#### 2.4.1 (B)"
   ]
  },
  {
   "cell_type": "code",
   "execution_count": null,
   "metadata": {},
   "outputs": [
    {
     "ename": "Error",
     "evalue": "(14,3): error CS0122: 'Person.age' is inaccessible due to its protection level",
     "output_type": "error",
     "traceback": [
      "(14,3): error CS0122: 'Person.age' is inaccessible due to its protection level"
     ]
    }
   ],
   "source": [
    "public  class Person\n",
    "{\n",
    "    public string name; // field - public สามารถเข้าถึงจากภายนอก class ได้\n",
    "    private int age;    // field - private เข้าถึงได้เฉพาะภายใน class\n",
    "    \n",
    "    public void Introduce()\n",
    "    {\n",
    "        Console.WriteLine(\"My name is \" + name + \" and I am \" + age + \" years old.\");\n",
    "    }\n",
    "}\n",
    "\n",
    "Person p = new();\n",
    "p.name = \"Harry\";\n",
    "p.age = 10;\n",
    "p.Introduce();"
   ]
  },
  {
   "cell_type": "markdown",
   "metadata": {},
   "source": [
    "#### 2.4.2 การพยายามเข้าถึง field จากภายนอกขอบเขต"
   ]
  },
  {
   "cell_type": "code",
   "execution_count": null,
   "metadata": {},
   "outputs": [
    {
     "ename": "Error",
     "evalue": "(22,19): error CS0103: The name 'number' does not exist in the current context",
     "output_type": "error",
     "traceback": [
      "(22,19): error CS0103: The name 'number' does not exist in the current context"
     ]
    }
   ],
   "source": [
    "class Example\n",
    "{\n",
    "private int number; // field ของ class Example\n",
    "\n",
    "    public void SetNumber(int value)\n",
    "    {\n",
    "        number = value;\n",
    "    }\n",
    "\n",
    "    public void PrintNumber()\n",
    "    {\n",
    "        Console.WriteLine(number);\n",
    "    }\n",
    "\n",
    "}\n",
    "\n",
    "Example example = new Example();\n",
    "example.SetNumber(10);\n",
    "example.PrintNumber(); // Output: 10\n",
    "\n",
    "// พยายามเข้าถึง field \"number\" จากภายนอก class Example\n",
    "Console.WriteLine(number);  // error:  'number' does not exist in the current context"
   ]
  },
  {
   "cell_type": "markdown",
   "metadata": {},
   "source": [
    "#### 2.4.3  ค่าเริ่มต้นของ Field\n",
    "\n",
    "ใน C# ค่าเริ่มต้นของ Field จะขึ้นอยู่กับชนิดข้อมูลของ Field นั้นๆ  โดย compiler จะกำหนดค่าเริ่มต้นให้โดยอัตโนมัติ หากไม่ได้กำหนดค่าให้ชัดเจน"
   ]
  },
  {
   "cell_type": "markdown",
   "metadata": {},
   "source": [
    "|ชนิดข้อมูล\t|ค่าเริ่มต้น|\n",
    "|---------|:-------:|\n",
    "|int, long, short, byte\t|0|\n",
    "|float, double, decimal\t|0.0|\n",
    "|bool\t|false|\n",
    "|char\t|'\\0' (null character)|\n",
    "|string\t|null|\n",
    "|object\t|null|\n",
    "|struct\t|ค่าเริ่มต้นของ field แต่ละตัวใน struct|\n",
    "|enum\t|ค่าของสมาชิกตัวแรกใน enum|"
   ]
  },
  {
   "cell_type": "code",
   "execution_count": null,
   "metadata": {},
   "outputs": [
    {
     "name": "stdout",
     "output_type": "stream",
     "text": [
      "myInt: 0\n",
      "myString: \n",
      "myBool: False\n"
     ]
    }
   ],
   "source": [
    "public class Example\n",
    "{\n",
    "    public int myInt;\n",
    "    public string myString;\n",
    "    public bool myBool;\n",
    "\n",
    "    public void PrintValues()\n",
    "    {\n",
    "        Console.WriteLine($\"myInt: {myInt}\");      // Output: 0\n",
    "        Console.WriteLine($\"myString: {myString}\");  // Output: null\n",
    "        Console.WriteLine($\"myBool: {myBool}\");    // Output: False\n",
    "    }\n",
    "}\n",
    "\n",
    "Example e = new();\n",
    "e.PrintValues();"
   ]
  },
  {
   "cell_type": "markdown",
   "metadata": {},
   "source": [
    "ถึงแม้ว่า compiler จะกำหนดค่าเริ่มต้นให้ \n",
    "\n",
    "แต่ควรระวังการใช้ Field ที่ไม่ได้กำหนดค่าอย่างชัดเจน เพราะอาจทำให้เกิดข้อผิดพลาดในโปรแกรมได้\n",
    "\n",
    "\n",
    "ควร initialze ค่าให้กับ Field ใน constructor ของ class หรือ ณ จุดประกาศตัวแปร เพื่อความชัดเจนและป้องกันข้อผิดพลาด"
   ]
  },
  {
   "cell_type": "markdown",
   "metadata": {},
   "source": [
    "#### 2.4.4 static field"
   ]
  },
  {
   "cell_type": "markdown",
   "metadata": {},
   "source": [
    "\n",
    "ใน C# static field คือ field ที่ถูกแชร์ร่วมกันในทุก instance ของ class นั้นๆ  หมายความว่าไม่ว่าจะสร้าง object จาก class นั้นขึ้นมากี่ object ก็ตาม  static field จะมีเพียงค่าเดียวที่ถูกใช้งานร่วมกัน\n"
   ]
  },
  {
   "cell_type": "markdown",
   "metadata": {},
   "source": [
    "__ลักษณะสำคัญของ static field__\n",
    "\n",
    "- static field ไม่ได้เป็นของ object แต่เป็นของ class โดยตรง\n",
    "- ทุก object ที่สร้างจาก class เดียวกัน จะใช้ static field ร่วมกัน การเปลี่ยนแปลงค่าของ static field ใน object ใด object หนึ่ง จะส่งผลต่อ object อื่นๆ ทั้งหมด\n",
    "- สามารถเข้าถึง static field ได้โดยตรงผ่านชื่อ class โดยไม่ต้องสร้าง object ขึ้นมาก่อน"
   ]
  },
  {
   "cell_type": "code",
   "execution_count": null,
   "metadata": {},
   "outputs": [
    {
     "name": "stdout",
     "output_type": "stream",
     "text": [
      "Panya's Age = 5\n",
      "Siri's Age = 12\n",
      "Panya's Age = 12\n"
     ]
    }
   ],
   "source": [
    "public class Person\n",
    "{\n",
    "    public static int _age = 0;             // static field\n",
    "    public  string  _name = string.Empty; \n",
    "\n",
    "    public Person(string name)\n",
    "    {\n",
    "        _name = name;\n",
    "    }\n",
    "\n",
    "    public void SetAge(int value)\n",
    "    {\n",
    "        _age = value;\n",
    "    }\n",
    "    public void ShowAge()\n",
    "    {\n",
    "        Console.WriteLine($\"{_name}'s Age = {_age}\");\n",
    "    }\n",
    "}\n",
    "\n",
    "Person p = new(\"Panya\");\n",
    "p.SetAge(5);\n",
    "p.ShowAge(); \n",
    "\n",
    "Person s = new(\"Siri\");\n",
    "s.SetAge(12);\n",
    "s.ShowAge(); \n",
    "\n",
    "p.ShowAge();"
   ]
  },
  {
   "cell_type": "markdown",
   "metadata": {},
   "source": [
    "#### คำถาม\n",
    "ให้อธิบายว่าการทำงาน code ด้านบนเป็นอย่างไร มีความผิดปกติตรงไหนบ้าง "
   ]
  },
  {
   "cell_type": "markdown",
   "metadata": {},
   "source": [
    "*ตอบ* \n",
    "อธิบายโค้ด:\n",
    "1._age เป็น Static Field:\n",
    "\n",
    "ตัวแปร _age ถูกประกาศเป็น static ซึ่งหมายความว่ามันจะเป็นค่าที่ใช้ร่วมกันระหว่างทุกอ็อบเจ็กต์ของคลาส Person ดังนั้นการเปลี่ยนแปลงค่าของ _age จะมีผลกระทบกับทุกอ็อบเจ็กต์ที่สร้างขึ้นจากคลาสนี้\n",
    "เมื่อเรียกใช้ p.SetAge(5); หรือ s.SetAge(12); มันจะเปลี่ยนค่า _age ของทั้งสองอ็อบเจ็กต์ p และ s ให้มีค่าเดียวกัน เพราะ _age เป็น static ดังนั้นทั้ง p และ s จะเห็นค่าของ _age ที่ถูกเปลี่ยนแปลงเป็น 12 เมื่อ s.SetAge(12) ถูกเรียกใช้  \n",
    "\n",
    "\n",
    "2.การทำงานของ ShowAge:\n",
    "\n",
    "เมื่อคุณเรียก p.ShowAge() จะพิมพ์ค่า _age ของอ็อบเจ็กต์ p ซึ่งเป็น 12 เนื่องจาก _age ถูกตั้งค่าใหม่เป็น 12 โดย s.SetAge(12)\n",
    "และเมื่อเรียก s.ShowAge(), มันจะพิมพ์ค่าของ _age ซึ่งเป็น 12 เช่นเดียวกัน\n",
    "ดังนั้น ไม่ว่าจะเรียก ShowAge จากอ็อบเจ็กต์ p หรือ s ค่าของ _age ที่แสดงผลจะเป็นค่าเดียวกัน ซึ่งคือ 12"
   ]
  },
  {
   "cell_type": "markdown",
   "metadata": {},
   "source": [
    "ความผิดปกติ:\n",
    "เนื่องจาก _age เป็น static ค่าของมันจะถูกแชร์ระหว่างทุกอ็อบเจ็กต์ของคลาส Person ซึ่งอาจทำให้ไม่สามารถแยกแยะอายุของแต่ละบุคคลได้ เนื่องจากการตั้งค่า _age ในอ็อบเจ็กต์ใด ๆ จะส่งผลกระทบกับอ็อบเจ็กต์อื่น ๆ ที่มีการใช้งาน _age\n",
    "หากต้องการให้แต่ละอ็อบเจ็กต์มีอายุ (age) ของตัวเอง ควรใช้ตัวแปรภายในอ็อบเจ็กต์แทนการใช้ static:"
   ]
  },
  {
   "cell_type": "markdown",
   "metadata": {},
   "source": [
    "#### 2.4.4.1 ตัวอย่างการใช้ประโยชน์จาก static field"
   ]
  },
  {
   "cell_type": "code",
   "execution_count": null,
   "metadata": {},
   "outputs": [
    {
     "name": "stdout",
     "output_type": "stream",
     "text": [
      "3\r\n"
     ]
    }
   ],
   "source": [
    "public class Counter\n",
    "{\n",
    "    public static int count = 0; // static field\n",
    "\n",
    "    public Counter()  // constructor จะรันทุกครั้งที่สร้าง object ใหม่\n",
    "    {\n",
    "        count++; \n",
    "    }\n",
    "}\n",
    "\n",
    "public static class Example\n",
    "{\n",
    "    public static void print()\n",
    "    {\n",
    "        Counter c1 = new();    // สร้าง object 'Counter' ใหม่ ครั้งที่ 1\n",
    "        Counter c2 = new();    // สร้าง object 'Counter' ใหม่ ครั้งที่ 2\n",
    "        Counter c3 = new();    // สร้าง object 'Counter' ใหม่ ครั้งที่ 3\n",
    "\n",
    "        Console.WriteLine(Counter.count); \n",
    "    }\n",
    "}\n",
    "\n",
    "Example.print();"
   ]
  },
  {
   "cell_type": "markdown",
   "metadata": {},
   "source": [
    "__อธิบายการทำงานของโปรแกรม__"
   ]
  },
  {
   "cell_type": "markdown",
   "metadata": {},
   "source": [
    "*ตอบ* อธิบายการทำงานของโปรแกรม:\n",
    "1.ตัวแปร count (Static Field):\n",
    "\n",
    "ตัวแปร count ถูกประกาศเป็น static ซึ่งหมายความว่ามันจะเป็นตัวแปรที่ใช้ร่วมกันระหว่างทุกๆ อ็อบเจ็กต์ของคลาส Counter และมันจะถูกแชร์ระหว่างอ็อบเจ็กต์ทุกตัวในคลาสนั้น\n",
    "เมื่อมีการเพิ่ม count ในคอนสตรัคเตอร์ของ Counter ทุกครั้งที่สร้างอ็อบเจ็กต์ใหม่ ค่า count จะเพิ่มขึ้น\n",
    "\n",
    "\n",
    "2.คอนสตรัคเตอร์ของ Counter:\n",
    "\n",
    "ทุกครั้งที่มีการสร้างอ็อบเจ็กต์ใหม่จากคลาส Counter (เช่น Counter c1 = new();), คอนสตรัคเตอร์ของ Counter จะถูกเรียกใช้และ count จะเพิ่มขึ้นทีละ 1\n",
    "\n",
    "\n",
    "3.การทำงานใน Example.print():\n",
    "\n",
    "ในเมธอด print() ของคลาส Example, มีการสร้างอ็อบเจ็กต์ของ Counter 3 ตัว (คือ c1, c2, และ c3)\n",
    "ทุกครั้งที่สร้างอ็อบเจ็กต์ใหม่, คอนสตรัคเตอร์ของ Counter จะเพิ่มค่า count ขึ้นทีละ 1\n",
    "ในตอนสุดท้ายของเมธอด print(), Console.WriteLine(Counter.count) จะพิมพ์ค่าของ count ซึ่งจะเป็นผลรวมของการสร้างอ็อบเจ็กต์ 3 ตัว\n",
    "\n",
    "\n",
    "ผลลัพธ์ของโปรแกรม:\n",
    "\n",
    "\n",
    "1.สร้าง c1 -> count เพิ่มเป็น 1\n",
    "2.สร้าง c2 -> count เพิ่มเป็น 2\n",
    "3.สร้าง c3 -> count เพิ่มเป็น 3\n",
    "4.พิมพ์ค่า count ซึ่งตอนนี้มีค่าเป็น 3"
   ]
  },
  {
   "cell_type": "markdown",
   "metadata": {},
   "source": [
    "สรุป:\n",
    "โปรแกรมนี้จะพิมพ์ค่า count เป็น 3 เพราะมันสร้างอ็อบเจ็กต์ Counter จำนวน 3 ตัว ซึ่งทำให้ตัวแปร count (ที่เป็น static) ถูกเพิ่มค่าขึ้นทีละ 1 ทุกครั้งที่มีการสร้างอ็อบเจ็กต์ใหม่\n",
    "\n"
   ]
  }
 ],
 "metadata": {
  "kernelspec": {
   "display_name": ".NET (C#)",
   "language": "C#",
   "name": ".net-csharp"
  },
  "polyglot_notebook": {
   "kernelInfo": {
    "defaultKernelName": "csharp",
    "items": [
     {
      "aliases": [],
      "languageName": "csharp",
      "name": "csharp"
     }
    ]
   }
  }
 },
 "nbformat": 4,
 "nbformat_minor": 2
}
